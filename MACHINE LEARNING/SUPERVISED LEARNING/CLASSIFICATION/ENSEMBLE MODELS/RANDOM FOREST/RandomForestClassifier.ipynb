{
 "cells": [
  {
   "cell_type": "markdown",
   "metadata": {},
   "source": [
    "# Salary classification of an adult whether he will get salary > 50k or <50k \n"
   ]
  },
  {
   "cell_type": "code",
   "execution_count": 80,
   "metadata": {},
   "outputs": [],
   "source": [
    "import pandas as pd\n",
    "import numpy as np\n",
    "from sklearn import linear_model, datasets\n",
    "from sklearn.model_selection import GridSearchCV,RandomizedSearchCV\n",
    "from sklearn.preprocessing import StandardScaler\n",
    "from sklearn.model_selection import train_test_split\n",
    "from sklearn.metrics import accuracy_score\n",
    "from sklearn.ensemble import RandomForestClassifier\n",
    "from sklearn.svm import SVC\n",
    "import matplotlib.pyplot as plt\n",
    "%matplotlib inline\n"
   ]
  },
  {
   "cell_type": "markdown",
   "metadata": {},
   "source": [
    "# Data"
   ]
  },
  {
   "cell_type": "code",
   "execution_count": 13,
   "metadata": {},
   "outputs": [],
   "source": [
    "data = pd.read_csv('E:\\\\Datasets\\\\Adult_salary classfication.csv')\n",
    "# convert the labels into numbers 0 & 1 for fitting the model and storing it in seperate variable \n",
    "data.Salary.replace(to_replace=[' >50K', ' <=50K'], value=[0, 1],inplace = True)\n"
   ]
  },
  {
   "cell_type": "code",
   "execution_count": 14,
   "metadata": {},
   "outputs": [],
   "source": [
    "#removing special charater ? from the data set\n",
    "data['Workclass'].replace(to_replace = ' ?',value= np.nan,inplace=True)\n"
   ]
  },
  {
   "cell_type": "code",
   "execution_count": 18,
   "metadata": {},
   "outputs": [],
   "source": [
    "# dropping unnecessary columns\n",
    "data1 = data\n",
    "data1.drop(['finalwgt','cg','cl'],axis = 1,inplace=True)\n",
    "\n"
   ]
  },
  {
   "cell_type": "code",
   "execution_count": 26,
   "metadata": {},
   "outputs": [],
   "source": [
    "# dropping null values\n",
    "data1.dropna(inplace = True)"
   ]
  },
  {
   "cell_type": "code",
   "execution_count": 27,
   "metadata": {},
   "outputs": [
    {
     "name": "stderr",
     "output_type": "stream",
     "text": [
      "E:\\APYTHON\\lib\\site-packages\\pandas\\core\\frame.py:4102: SettingWithCopyWarning: \n",
      "A value is trying to be set on a copy of a slice from a DataFrame\n",
      "\n",
      "See the caveats in the documentation: http://pandas.pydata.org/pandas-docs/stable/user_guide/indexing.html#returning-a-view-versus-a-copy\n",
      "  errors=errors,\n"
     ]
    },
    {
     "data": {
      "text/plain": [
       "Index(['Age', 'Educationalno', 'hours-per-week'], dtype='object')"
      ]
     },
     "execution_count": 27,
     "metadata": {},
     "output_type": "execute_result"
    }
   ],
   "source": [
    "#creating two data sets for categorical and continous variables and dropping the label \n",
    "x1 =  data1.loc[:,data1.dtypes==np.object]\n",
    "x2 = data1.loc[:,data1.dtypes==np.int64]\n",
    "salary_yy = x2.Salary\n",
    "x2.drop(['Salary'],axis = 1,inplace = True)\n",
    "x2_columns = x2.columns\n",
    "x2_columns"
   ]
  },
  {
   "cell_type": "code",
   "execution_count": 31,
   "metadata": {},
   "outputs": [
    {
     "data": {
      "text/plain": [
       "(30725,)"
      ]
     },
     "execution_count": 31,
     "metadata": {},
     "output_type": "execute_result"
    }
   ],
   "source": [
    "#scaling the continous variable and creating dummies for categorical variables\n",
    "sc = StandardScaler()\n",
    "sc_x2 = pd.DataFrame(sc.fit_transform(x2),columns=x2_columns)\n",
    "dm_x1 = pd.get_dummies(x1)\n",
    "type(dm_x1)\n",
    "type(sc_x2)\n",
    "dm_x1.shape\n",
    "sc_x2.shape\n",
    "salary_yy.shape"
   ]
  },
  {
   "cell_type": "code",
   "execution_count": 33,
   "metadata": {},
   "outputs": [
    {
     "data": {
      "text/html": [
       "<div>\n",
       "<style scoped>\n",
       "    .dataframe tbody tr th:only-of-type {\n",
       "        vertical-align: middle;\n",
       "    }\n",
       "\n",
       "    .dataframe tbody tr th {\n",
       "        vertical-align: top;\n",
       "    }\n",
       "\n",
       "    .dataframe thead th {\n",
       "        text-align: right;\n",
       "    }\n",
       "</style>\n",
       "<table border=\"1\" class=\"dataframe\">\n",
       "  <thead>\n",
       "    <tr style=\"text-align: right;\">\n",
       "      <th></th>\n",
       "      <th>Age</th>\n",
       "      <th>Educationalno</th>\n",
       "      <th>hours-per-week</th>\n",
       "      <th>Workclass_ Federal-gov</th>\n",
       "      <th>Workclass_ Local-gov</th>\n",
       "      <th>Workclass_ Never-worked</th>\n",
       "      <th>Workclass_ Private</th>\n",
       "      <th>Workclass_ Self-emp-inc</th>\n",
       "      <th>Workclass_ Self-emp-not-inc</th>\n",
       "      <th>Workclass_ State-gov</th>\n",
       "      <th>...</th>\n",
       "      <th>native country_ Portugal</th>\n",
       "      <th>native country_ Puerto-Rico</th>\n",
       "      <th>native country_ Scotland</th>\n",
       "      <th>native country_ South</th>\n",
       "      <th>native country_ Taiwan</th>\n",
       "      <th>native country_ Thailand</th>\n",
       "      <th>native country_ Trinadad&amp;Tobago</th>\n",
       "      <th>native country_ United-States</th>\n",
       "      <th>native country_ Vietnam</th>\n",
       "      <th>native country_ Yugoslavia</th>\n",
       "    </tr>\n",
       "  </thead>\n",
       "  <tbody>\n",
       "    <tr>\n",
       "      <td>30720</td>\n",
       "      <td>-0.871950</td>\n",
       "      <td>0.729828</td>\n",
       "      <td>-0.245801</td>\n",
       "      <td>0</td>\n",
       "      <td>0</td>\n",
       "      <td>0</td>\n",
       "      <td>1</td>\n",
       "      <td>0</td>\n",
       "      <td>0</td>\n",
       "      <td>0</td>\n",
       "      <td>...</td>\n",
       "      <td>0</td>\n",
       "      <td>0</td>\n",
       "      <td>0</td>\n",
       "      <td>0</td>\n",
       "      <td>0</td>\n",
       "      <td>0</td>\n",
       "      <td>0</td>\n",
       "      <td>1</td>\n",
       "      <td>0</td>\n",
       "      <td>0</td>\n",
       "    </tr>\n",
       "    <tr>\n",
       "      <td>30721</td>\n",
       "      <td>0.118945</td>\n",
       "      <td>-0.440830</td>\n",
       "      <td>-0.078956</td>\n",
       "      <td>0</td>\n",
       "      <td>0</td>\n",
       "      <td>0</td>\n",
       "      <td>1</td>\n",
       "      <td>0</td>\n",
       "      <td>0</td>\n",
       "      <td>0</td>\n",
       "      <td>...</td>\n",
       "      <td>0</td>\n",
       "      <td>0</td>\n",
       "      <td>0</td>\n",
       "      <td>0</td>\n",
       "      <td>0</td>\n",
       "      <td>0</td>\n",
       "      <td>0</td>\n",
       "      <td>1</td>\n",
       "      <td>0</td>\n",
       "      <td>0</td>\n",
       "    </tr>\n",
       "    <tr>\n",
       "      <td>30722</td>\n",
       "      <td>1.490953</td>\n",
       "      <td>-0.440830</td>\n",
       "      <td>-0.078956</td>\n",
       "      <td>0</td>\n",
       "      <td>0</td>\n",
       "      <td>0</td>\n",
       "      <td>1</td>\n",
       "      <td>0</td>\n",
       "      <td>0</td>\n",
       "      <td>0</td>\n",
       "      <td>...</td>\n",
       "      <td>0</td>\n",
       "      <td>0</td>\n",
       "      <td>0</td>\n",
       "      <td>0</td>\n",
       "      <td>0</td>\n",
       "      <td>0</td>\n",
       "      <td>0</td>\n",
       "      <td>1</td>\n",
       "      <td>0</td>\n",
       "      <td>0</td>\n",
       "    </tr>\n",
       "    <tr>\n",
       "      <td>30723</td>\n",
       "      <td>-1.253064</td>\n",
       "      <td>-0.440830</td>\n",
       "      <td>-1.747404</td>\n",
       "      <td>0</td>\n",
       "      <td>0</td>\n",
       "      <td>0</td>\n",
       "      <td>1</td>\n",
       "      <td>0</td>\n",
       "      <td>0</td>\n",
       "      <td>0</td>\n",
       "      <td>...</td>\n",
       "      <td>0</td>\n",
       "      <td>0</td>\n",
       "      <td>0</td>\n",
       "      <td>0</td>\n",
       "      <td>0</td>\n",
       "      <td>0</td>\n",
       "      <td>0</td>\n",
       "      <td>1</td>\n",
       "      <td>0</td>\n",
       "      <td>0</td>\n",
       "    </tr>\n",
       "    <tr>\n",
       "      <td>30724</td>\n",
       "      <td>1.033617</td>\n",
       "      <td>-0.440830</td>\n",
       "      <td>-0.078956</td>\n",
       "      <td>0</td>\n",
       "      <td>0</td>\n",
       "      <td>0</td>\n",
       "      <td>0</td>\n",
       "      <td>1</td>\n",
       "      <td>0</td>\n",
       "      <td>0</td>\n",
       "      <td>...</td>\n",
       "      <td>0</td>\n",
       "      <td>0</td>\n",
       "      <td>0</td>\n",
       "      <td>0</td>\n",
       "      <td>0</td>\n",
       "      <td>0</td>\n",
       "      <td>0</td>\n",
       "      <td>1</td>\n",
       "      <td>0</td>\n",
       "      <td>0</td>\n",
       "    </tr>\n",
       "  </tbody>\n",
       "</table>\n",
       "<p>5 rows × 104 columns</p>\n",
       "</div>"
      ],
      "text/plain": [
       "            Age  Educationalno  hours-per-week  Workclass_ Federal-gov  \\\n",
       "30720 -0.871950       0.729828       -0.245801                       0   \n",
       "30721  0.118945      -0.440830       -0.078956                       0   \n",
       "30722  1.490953      -0.440830       -0.078956                       0   \n",
       "30723 -1.253064      -0.440830       -1.747404                       0   \n",
       "30724  1.033617      -0.440830       -0.078956                       0   \n",
       "\n",
       "       Workclass_ Local-gov  Workclass_ Never-worked  Workclass_ Private  \\\n",
       "30720                     0                        0                   1   \n",
       "30721                     0                        0                   1   \n",
       "30722                     0                        0                   1   \n",
       "30723                     0                        0                   1   \n",
       "30724                     0                        0                   0   \n",
       "\n",
       "       Workclass_ Self-emp-inc  Workclass_ Self-emp-not-inc  \\\n",
       "30720                        0                            0   \n",
       "30721                        0                            0   \n",
       "30722                        0                            0   \n",
       "30723                        0                            0   \n",
       "30724                        1                            0   \n",
       "\n",
       "       Workclass_ State-gov  ...  native country_ Portugal  \\\n",
       "30720                     0  ...                         0   \n",
       "30721                     0  ...                         0   \n",
       "30722                     0  ...                         0   \n",
       "30723                     0  ...                         0   \n",
       "30724                     0  ...                         0   \n",
       "\n",
       "       native country_ Puerto-Rico  native country_ Scotland  \\\n",
       "30720                            0                         0   \n",
       "30721                            0                         0   \n",
       "30722                            0                         0   \n",
       "30723                            0                         0   \n",
       "30724                            0                         0   \n",
       "\n",
       "       native country_ South  native country_ Taiwan  \\\n",
       "30720                      0                       0   \n",
       "30721                      0                       0   \n",
       "30722                      0                       0   \n",
       "30723                      0                       0   \n",
       "30724                      0                       0   \n",
       "\n",
       "       native country_ Thailand  native country_ Trinadad&Tobago  \\\n",
       "30720                         0                                0   \n",
       "30721                         0                                0   \n",
       "30722                         0                                0   \n",
       "30723                         0                                0   \n",
       "30724                         0                                0   \n",
       "\n",
       "       native country_ United-States  native country_ Vietnam  \\\n",
       "30720                              1                        0   \n",
       "30721                              1                        0   \n",
       "30722                              1                        0   \n",
       "30723                              1                        0   \n",
       "30724                              1                        0   \n",
       "\n",
       "       native country_ Yugoslavia  \n",
       "30720                           0  \n",
       "30721                           0  \n",
       "30722                           0  \n",
       "30723                           0  \n",
       "30724                           0  \n",
       "\n",
       "[5 rows x 104 columns]"
      ]
     },
     "execution_count": 33,
     "metadata": {},
     "output_type": "execute_result"
    }
   ],
   "source": [
    "#dropping the indexes as they are creating some nan values while concatenating two dataframes\n",
    "sc_x2.reset_index(drop=True, inplace=True)\n",
    "dm_x1.reset_index(drop=True, inplace=True)\n",
    "fdata = pd.concat([sc_x2,dm_x1],axis =1)\n",
    "fdata.shape\n",
    "fdata.tail()"
   ]
  },
  {
   "cell_type": "markdown",
   "metadata": {},
   "source": [
    "# building the base RFC model with train, test split"
   ]
  },
  {
   "cell_type": "code",
   "execution_count": 41,
   "metadata": {},
   "outputs": [],
   "source": [
    "x_train,x_test,y_train,y_test = train_test_split(fdata,salary_yy,test_size = 0.25,random_state = 1)"
   ]
  },
  {
   "cell_type": "code",
   "execution_count": 42,
   "metadata": {},
   "outputs": [
    {
     "name": "stderr",
     "output_type": "stream",
     "text": [
      "E:\\APYTHON\\lib\\site-packages\\sklearn\\ensemble\\forest.py:245: FutureWarning: The default value of n_estimators will change from 10 in version 0.20 to 100 in 0.22.\n",
      "  \"10 in version 0.20 to 100 in 0.22.\", FutureWarning)\n"
     ]
    }
   ],
   "source": [
    "rfc = RandomForestClassifier()\n",
    "model_rfc = rfc.fit(x_train,y_train)"
   ]
  },
  {
   "cell_type": "code",
   "execution_count": 43,
   "metadata": {},
   "outputs": [
    {
     "data": {
      "text/plain": [
       "0.8105961989065348"
      ]
     },
     "execution_count": 43,
     "metadata": {},
     "output_type": "execute_result"
    }
   ],
   "source": [
    "y_pred  = model_rfc.predict(x_test)\n",
    "accu = accuracy_score(y_test,y_pred)\n",
    "accu"
   ]
  },
  {
   "cell_type": "code",
   "execution_count": null,
   "metadata": {},
   "outputs": [],
   "source": [
    "# By changing the value of random_state , the model accuracy keeps on changing, we need to stablize it more, \n",
    "#Use Gridsearch with cv for hyper parameter tuning "
   ]
  },
  {
   "cell_type": "code",
   "execution_count": 47,
   "metadata": {},
   "outputs": [],
   "source": [
    "# Now use hyper parameter tuning using grid search and randomized search\n",
    "# Number of trees in random forest\n",
    "n_estimators = [int(x) for x in np.linspace(start = 20, stop = 200, num = 5)]\n",
    "# Number of features to consider at every split\n",
    "max_features = ['auto', 'sqrt']\n",
    "# Maximum number of levels in tree\n",
    "max_depth = [int(x) for x in np.linspace(1, 45, num = 3)]\n",
    "# Minimum number of samples required to split a node\n",
    "min_samples_split = [5, 10]\n",
    "random_grid = {'n_estimators': n_estimators,\n",
    "               'max_features': max_features,\n",
    "               'max_depth': max_depth,\n",
    "               'min_samples_split': min_samples_split}"
   ]
  },
  {
   "cell_type": "code",
   "execution_count": 49,
   "metadata": {},
   "outputs": [
    {
     "name": "stdout",
     "output_type": "stream",
     "text": [
      "{'n_estimators': [20, 65, 110, 155, 200], 'max_features': ['auto', 'sqrt'], 'max_depth': [1, 23, 45], 'min_samples_split': [5, 10]}\n"
     ]
    }
   ],
   "source": [
    "print(random_grid)\n",
    "# Grid search\n",
    "grid_rfc = GridSearchCV(rfc,random_grid,cv = 10,scoring='accuracy')"
   ]
  },
  {
   "cell_type": "code",
   "execution_count": 50,
   "metadata": {},
   "outputs": [
    {
     "data": {
      "text/plain": [
       "GridSearchCV(cv=10, error_score='raise-deprecating',\n",
       "             estimator=RandomForestClassifier(bootstrap=True, class_weight=None,\n",
       "                                              criterion='gini', max_depth=None,\n",
       "                                              max_features='auto',\n",
       "                                              max_leaf_nodes=None,\n",
       "                                              min_impurity_decrease=0.0,\n",
       "                                              min_impurity_split=None,\n",
       "                                              min_samples_leaf=1,\n",
       "                                              min_samples_split=2,\n",
       "                                              min_weight_fraction_leaf=0.0,\n",
       "                                              n_estimators=10, n_jobs=None,\n",
       "                                              oob_score=False,\n",
       "                                              random_state=None, verbose=0,\n",
       "                                              warm_start=False),\n",
       "             iid='warn', n_jobs=None,\n",
       "             param_grid={'max_depth': [1, 23, 45],\n",
       "                         'max_features': ['auto', 'sqrt'],\n",
       "                         'min_samples_split': [5, 10],\n",
       "                         'n_estimators': [20, 65, 110, 155, 200]},\n",
       "             pre_dispatch='2*n_jobs', refit=True, return_train_score=False,\n",
       "             scoring='accuracy', verbose=0)"
      ]
     },
     "execution_count": 50,
     "metadata": {},
     "output_type": "execute_result"
    }
   ],
   "source": [
    "grid_rfc.fit(x_train,y_train)"
   ]
  },
  {
   "cell_type": "code",
   "execution_count": 53,
   "metadata": {},
   "outputs": [
    {
     "data": {
      "text/plain": [
       "0.8337456060408801"
      ]
     },
     "execution_count": 53,
     "metadata": {},
     "output_type": "execute_result"
    }
   ],
   "source": [
    "grid_rfc.best_params_\n",
    "grid_rfc.best_score_"
   ]
  },
  {
   "cell_type": "code",
   "execution_count": 55,
   "metadata": {},
   "outputs": [
    {
     "name": "stdout",
     "output_type": "stream",
     "text": [
      "Fitting 10 folds for each of 10 candidates, totalling 100 fits\n"
     ]
    },
    {
     "name": "stderr",
     "output_type": "stream",
     "text": [
      "[Parallel(n_jobs=-1)]: Using backend LokyBackend with 4 concurrent workers.\n",
      "[Parallel(n_jobs=-1)]: Done  33 tasks      | elapsed:   15.4s\n",
      "[Parallel(n_jobs=-1)]: Done 100 out of 100 | elapsed:  1.8min finished\n"
     ]
    },
    {
     "data": {
      "text/plain": [
       "RandomizedSearchCV(cv=10, error_score='raise-deprecating',\n",
       "                   estimator=RandomForestClassifier(bootstrap=True,\n",
       "                                                    class_weight=None,\n",
       "                                                    criterion='gini',\n",
       "                                                    max_depth=None,\n",
       "                                                    max_features='auto',\n",
       "                                                    max_leaf_nodes=None,\n",
       "                                                    min_impurity_decrease=0.0,\n",
       "                                                    min_impurity_split=None,\n",
       "                                                    min_samples_leaf=1,\n",
       "                                                    min_samples_split=2,\n",
       "                                                    min_weight_fraction_leaf=0.0,\n",
       "                                                    n_estimators=10,\n",
       "                                                    n_jobs=None,\n",
       "                                                    oob_score=False,\n",
       "                                                    random_state=None,\n",
       "                                                    verbose=0,\n",
       "                                                    warm_start=False),\n",
       "                   iid='warn', n_iter=10, n_jobs=-1,\n",
       "                   param_distributions={'max_depth': [1, 23, 45],\n",
       "                                        'max_features': ['auto', 'sqrt'],\n",
       "                                        'min_samples_split': [5, 10],\n",
       "                                        'n_estimators': [20, 65, 110, 155,\n",
       "                                                         200]},\n",
       "                   pre_dispatch='2*n_jobs', random_state=42, refit=True,\n",
       "                   return_train_score=False, scoring='accuracy', verbose=2)"
      ]
     },
     "execution_count": 55,
     "metadata": {},
     "output_type": "execute_result"
    }
   ],
   "source": [
    "# randomisedsearch cv\n",
    "random_rfc = RandomizedSearchCV(rfc, random_grid, n_iter = 10, cv = 10, verbose=2, random_state=42, n_jobs = -1, scoring='accuracy')\n",
    "random_rfc.fit(x_train,y_train)"
   ]
  },
  {
   "cell_type": "code",
   "execution_count": 56,
   "metadata": {},
   "outputs": [
    {
     "data": {
      "text/plain": [
       "0.8336154146595496"
      ]
     },
     "execution_count": 56,
     "metadata": {},
     "output_type": "execute_result"
    }
   ],
   "source": [
    "random_rfc.best_score_"
   ]
  },
  {
   "cell_type": "markdown",
   "metadata": {},
   "source": [
    "# Feature importance"
   ]
  },
  {
   "cell_type": "code",
   "execution_count": 75,
   "metadata": {},
   "outputs": [
    {
     "data": {
      "text/plain": [
       "[(0.13177503692395282, 'Age'),\n",
       " (0.11373857697574125, 'maritualstatus_ Married-civ-spouse'),\n",
       " (0.11240521224267978, 'Educationalno'),\n",
       " (0.08770269592061822, 'hours-per-week'),\n",
       " (0.07117691508006298, 'relationship_ Husband'),\n",
       " (0.04936272096896416, 'maritualstatus_ Never-married'),\n",
       " (0.02877875428204385, 'Occupation_ Exec-managerial'),\n",
       " (0.022722778602877112, 'relationship_ Not-in-family'),\n",
       " (0.02254510659675767, 'Occupation_ Prof-specialty'),\n",
       " (0.02170737705261266, 'education_ Bachelors'),\n",
       " (0.021574603422602052, 'sex_ Female'),\n",
       " (0.019650565560192096, 'education_ Masters'),\n",
       " (0.01780750591776589, 'relationship_ Wife'),\n",
       " (0.016651500798931577, 'relationship_ Own-child'),\n",
       " (0.01500558972252943, 'Occupation_ Other-service'),\n",
       " (0.011785633593007407, 'Workclass_ Self-emp-not-inc'),\n",
       " (0.011589022173815045, 'education_ HS-grad'),\n",
       " (0.011520196969327115, 'maritualstatus_ Divorced'),\n",
       " (0.010403267471791385, 'Workclass_ Private'),\n",
       " (0.010354211283954298, 'relationship_ Unmarried'),\n",
       " (0.010051013008695202, 'sex_ Male'),\n",
       " (0.00969148827151614, 'Workclass_ Self-emp-inc'),\n",
       " (0.008765609147654453, 'education_ Prof-school'),\n",
       " (0.00742283959909229, 'Occupation_ Farming-fishing'),\n",
       " (0.006997185864872221, 'Occupation_ Sales'),\n",
       " (0.006967618989018192, 'race_ White'),\n",
       " (0.006735022350887201, 'Occupation_ Craft-repair'),\n",
       " (0.006393612579155596, 'native country_ United-States'),\n",
       " (0.00639314602984342, 'education_ Doctorate'),\n",
       " (0.006115764864054091, 'Workclass_ Federal-gov'),\n",
       " (0.005987114233875726, 'Occupation_ Tech-support'),\n",
       " (0.005957945097427351, 'Workclass_ Local-gov'),\n",
       " (0.005957202522609625, 'Occupation_ Adm-clerical'),\n",
       " (0.005748942545169955, 'education_ Some-college'),\n",
       " (0.005588294217155887, 'race_ Black'),\n",
       " (0.0052497663353012125, 'Occupation_ Handlers-cleaners'),\n",
       " (0.004923669519501341, 'Occupation_ Transport-moving'),\n",
       " (0.004915156272633885, 'Occupation_ Machine-op-inspct'),\n",
       " (0.00467924573875701, 'Workclass_ State-gov'),\n",
       " (0.003962688283825849, 'native country_ Mexico'),\n",
       " (0.003734771028831631, 'education_ Assoc-voc'),\n",
       " (0.0036417157017328175, 'race_ Asian-Pac-Islander'),\n",
       " (0.0034268954950467927, 'native country_ ?'),\n",
       " (0.0033744390039159677, 'education_ 11th'),\n",
       " (0.0031619638692748655, 'Occupation_ Protective-serv'),\n",
       " (0.0031180503433107776, 'education_ 7th-8th'),\n",
       " (0.003114203790790183, 'relationship_ Other-relative'),\n",
       " (0.002969247615922298, 'education_ Assoc-acdm'),\n",
       " (0.0023957298700333575, 'education_ 10th'),\n",
       " (0.002244063940511179, 'maritualstatus_ Widowed'),\n",
       " (0.002219103586362783, 'maritualstatus_ Separated'),\n",
       " (0.0019425456780833568, 'education_ 9th'),\n",
       " (0.0018087446964278058, 'race_ Amer-Indian-Eskimo'),\n",
       " (0.0017112263855248288, 'native country_ Germany'),\n",
       " (0.0015853877206462952, 'native country_ England'),\n",
       " (0.0013298543421835834, 'native country_ India'),\n",
       " (0.0013139948746859421, 'maritualstatus_ Married-spouse-absent'),\n",
       " (0.0012242511757591121, 'native country_ Philippines'),\n",
       " (0.0011794286592538617, 'education_ 5th-6th'),\n",
       " (0.0010591282726461462, 'education_ 12th'),\n",
       " (0.0010314707836430342, 'native country_ Italy'),\n",
       " (0.001009180177959239, 'race_ Other'),\n",
       " (0.0009870364680894558, 'native country_ Canada'),\n",
       " (0.0009800648663203049, 'native country_ Cuba'),\n",
       " (0.0009101898861203477, 'native country_ Poland'),\n",
       " (0.0008984648183935518, 'native country_ Puerto-Rico'),\n",
       " (0.0008677303351174559, 'maritualstatus_ Married-AF-spouse'),\n",
       " (0.0007899654203563557, 'native country_ South'),\n",
       " (0.0007725664393368729, 'native country_ Japan'),\n",
       " (0.0006504146909800063, 'native country_ China'),\n",
       " (0.0006115504882853582, 'native country_ France'),\n",
       " (0.0005936063713822571, 'native country_ Jamaica'),\n",
       " (0.0005764223260843118, 'native country_ Iran'),\n",
       " (0.000547049853370882, 'native country_ Vietnam'),\n",
       " (0.0005375189847652965, 'native country_ Greece'),\n",
       " (0.0005015675492578025, 'education_ 1st-4th'),\n",
       " (0.00042997463238729044, 'native country_ Taiwan'),\n",
       " (0.0003920983460789318, 'native country_ Ireland'),\n",
       " (0.0003817897927390576, 'native country_ Yugoslavia'),\n",
       " (0.00030571658805550613, 'native country_ Portugal'),\n",
       " (0.00030277886401532957, 'Occupation_ Priv-house-serv'),\n",
       " (0.0002968342781258737, 'native country_ El-Salvador'),\n",
       " (0.0002751627606901532, 'native country_ Dominican-Republic'),\n",
       " (0.00026012106441978774, 'native country_ Hungary'),\n",
       " (0.0002035627740050796, 'native country_ Ecuador'),\n",
       " (0.00020213504435693107, 'native country_ Cambodia'),\n",
       " (0.00018005627814265718, 'native country_ Haiti'),\n",
       " (0.00017154519404323978, 'native country_ Trinadad&Tobago'),\n",
       " (0.00016983238157509563, 'native country_ Columbia'),\n",
       " (0.0001381160205951608, 'native country_ Hong'),\n",
       " (0.00013489467150036154, 'native country_ Laos'),\n",
       " (8.585141227365441e-05, 'native country_ Scotland'),\n",
       " (8.49523292693405e-05, 'native country_ Thailand'),\n",
       " (8.392581231227744e-05, 'native country_ Guatemala'),\n",
       " (7.829571499144637e-05, 'native country_ Peru'),\n",
       " (6.83031539227774e-05, 'native country_ Nicaragua'),\n",
       " (5.6470280684884684e-05, 'education_ Preschool'),\n",
       " (3.8770003730237686e-05, 'native country_ Outlying-US(Guam-USVI-etc)'),\n",
       " (3.254953985597047e-05, 'Workclass_ Without-pay'),\n",
       " (1.5330682251750524e-05, 'Workclass_ Never-worked'),\n",
       " (1.4545968153512425e-05, 'native country_ Honduras'),\n",
       " (9.884798176795563e-06, 'Occupation_ Armed-Forces'),\n",
       " (6.359071967245138e-06, 'Occupation_ ?'),\n",
       " (0.0, 'native country_ Holand-Netherlands')]"
      ]
     },
     "execution_count": 75,
     "metadata": {},
     "output_type": "execute_result"
    }
   ],
   "source": [
    "importances = random_rfc.best_estimator_.feature_importances_\n",
    "importances\n",
    "feature_list = list(x_train.columns)\n",
    "#create a list of tuples\n",
    "feature_importance= sorted(zip(importances, feature_list), reverse=True)\n",
    "feature_importance"
   ]
  },
  {
   "cell_type": "code",
   "execution_count": 82,
   "metadata": {},
   "outputs": [
    {
     "name": "stdout",
     "output_type": "stream",
     "text": [
      "     importance                             feature\n",
      "0      0.131775                                 Age\n",
      "1      0.113739  maritualstatus_ Married-civ-spouse\n",
      "2      0.112405                       Educationalno\n",
      "3      0.087703                      hours-per-week\n",
      "4      0.071177               relationship_ Husband\n",
      "..          ...                                 ...\n",
      "99     0.000015             Workclass_ Never-worked\n",
      "100    0.000015            native country_ Honduras\n",
      "101    0.000010            Occupation_ Armed-Forces\n",
      "102    0.000006                       Occupation_ ?\n",
      "103    0.000000  native country_ Holand-Netherlands\n",
      "\n",
      "[104 rows x 2 columns]\n"
     ]
    },
    {
     "data": {
      "image/png": "[encoded data removed]",
      "text/plain": [
       "<Figure size 1080x720 with 1 Axes>"
      ]
     },
     "metadata": {
      "needs_background": "light"
     },
     "output_type": "display_data"
    }
   ],
   "source": [
    "#create two lists from the previous list of tuples\n",
    "df = pd.DataFrame(feature_importance, columns=['importance', 'feature'])\n",
    "importance= list(df['importance'])\n",
    "feature= list(df['feature'])\n",
    "print(df)\n",
    "x_values = list(range(len(feature_importance)))\n",
    "plt.figure(figsize=(15,10))\n",
    "plt.bar(x_values, importance, orientation = 'vertical')\n",
    "# Tick labels for x axis\n",
    "plt.xticks(x_values, feature, rotation='vertical')\n",
    "# Axis labels and title\n",
    "plt.ylabel('Importance'); plt.xlabel('Variable'); plt.title('Variable Importances');"
   ]
  },
  {
   "cell_type": "code",
   "execution_count": 60,
   "metadata": {
    "scrolled": true
   },
   "outputs": [
    {
     "data": {
      "text/plain": [
       "array([0.20008029, 0.14918917, 0.12233708, 0.08429481, 0.04063662,\n",
       "       0.03470494, 0.03015788, 0.02641025, 0.02299963, 0.02240328,\n",
       "       0.01987813, 0.01851452, 0.01627172, 0.01579898, 0.01500806,\n",
       "       0.01359865, 0.01248619, 0.01147431, 0.01064022, 0.00982487,\n",
       "       0.00839307, 0.00759374, 0.00718328, 0.00681001, 0.00613778,\n",
       "       0.00605923, 0.00581384, 0.00519715, 0.00504612, 0.00482868,\n",
       "       0.00457136, 0.00454261, 0.0043679 ])"
      ]
     },
     "execution_count": 60,
     "metadata": {},
     "output_type": "execute_result"
    }
   ],
   "source": [
    "# PCA \n",
    "from sklearn.decomposition import PCA \n",
    "  \n",
    "pca = PCA(n_components = .95) \n",
    "  \n",
    "Xp_train = pca.fit_transform(x_train) \n",
    "Xp_test = pca.transform(x_test)\n",
    "explained_variance = pca.explained_variance_ratio_\n",
    "explained_variance"
   ]
  },
  {
   "cell_type": "code",
   "execution_count": null,
   "metadata": {},
   "outputs": [],
   "source": []
  },
  {
   "cell_type": "code",
   "execution_count": 64,
   "metadata": {},
   "outputs": [
    {
     "data": {
      "image/png": "[encoded data removed]",
      "text/plain": [
       "<Figure size 432x288 with 1 Axes>"
      ]
     },
     "metadata": {
      "needs_background": "light"
     },
     "output_type": "display_data"
    }
   ],
   "source": [
    "#Plotting the Cumulative Summation of the Explained Variance\n",
    "plt.figure()\n",
    "plt.plot(np.cumsum(pca.explained_variance_ratio_))\n",
    "plt.xlabel('Number of Components')\n",
    "plt.ylabel('Variance (%)') #for each component\n",
    "plt.title(' Explained Variance')\n",
    "plt.show()"
   ]
  },
  {
   "cell_type": "code",
   "execution_count": 68,
   "metadata": {},
   "outputs": [
    {
     "name": "stdout",
     "output_type": "stream",
     "text": [
      "Fitting 10 folds for each of 10 candidates, totalling 100 fits\n"
     ]
    },
    {
     "name": "stderr",
     "output_type": "stream",
     "text": [
      "[Parallel(n_jobs=-1)]: Using backend LokyBackend with 4 concurrent workers.\n",
      "[Parallel(n_jobs=-1)]: Done  33 tasks      | elapsed:  1.4min\n",
      "[Parallel(n_jobs=-1)]: Done 100 out of 100 | elapsed:  5.4min finished\n"
     ]
    },
    {
     "data": {
      "text/plain": [
       "RandomizedSearchCV(cv=10, error_score='raise-deprecating',\n",
       "                   estimator=RandomForestClassifier(bootstrap=True,\n",
       "                                                    class_weight=None,\n",
       "                                                    criterion='gini',\n",
       "                                                    max_depth=None,\n",
       "                                                    max_features='auto',\n",
       "                                                    max_leaf_nodes=None,\n",
       "                                                    min_impurity_decrease=0.0,\n",
       "                                                    min_impurity_split=None,\n",
       "                                                    min_samples_leaf=1,\n",
       "                                                    min_samples_split=2,\n",
       "                                                    min_weight_fraction_leaf=0.0,\n",
       "                                                    n_estimators=10,\n",
       "                                                    n_jobs=None,\n",
       "                                                    oob_score=False,\n",
       "                                                    random_state=None,\n",
       "                                                    verbose=0,\n",
       "                                                    warm_start=False),\n",
       "                   iid='warn', n_iter=10, n_jobs=-1,\n",
       "                   param_distributions={'max_depth': [1, 23, 45],\n",
       "                                        'max_features': ['auto', 'sqrt'],\n",
       "                                        'min_samples_split': [5, 10],\n",
       "                                        'n_estimators': [20, 65, 110, 155,\n",
       "                                                         200]},\n",
       "                   pre_dispatch='2*n_jobs', random_state=42, refit=True,\n",
       "                   return_train_score=False, scoring='accuracy', verbose=2)"
      ]
     },
     "execution_count": 68,
     "metadata": {},
     "output_type": "execute_result"
    }
   ],
   "source": [
    "# retrying again with pca \n",
    "random_rfc1 = RandomizedSearchCV(rfc, random_grid, n_iter = 10, cv = 10, verbose=2, random_state=42, n_jobs = -1, scoring='accuracy')\n",
    "random_rfc1.fit(Xp_train,y_train)"
   ]
  },
  {
   "cell_type": "code",
   "execution_count": 72,
   "metadata": {},
   "outputs": [
    {
     "data": {
      "text/plain": [
       "array([0.19426797, 0.03211944, 0.02100556, 0.04645097, 0.04586902,\n",
       "       0.03345318, 0.04117601, 0.02071804, 0.02173932, 0.0258718 ,\n",
       "       0.0290655 , 0.04119817, 0.02187183, 0.01910609, 0.02088695,\n",
       "       0.01686647, 0.02209791, 0.04766193, 0.01778362, 0.01948159,\n",
       "       0.01841367, 0.02983584, 0.02363091, 0.01672484, 0.01714233,\n",
       "       0.01901239, 0.0188468 , 0.01756034, 0.01797252, 0.0285379 ,\n",
       "       0.01869192, 0.01704822, 0.01789096])"
      ]
     },
     "execution_count": 72,
     "metadata": {},
     "output_type": "execute_result"
    }
   ],
   "source": [
    "random_rfc1.best_score_\n",
    "importances = random_rfc1.best_estimator_.feature_importances_\n",
    "importances"
   ]
  }
 ],
 "metadata": {
  "kernelspec": {
   "display_name": "Python 3",
   "language": "python",
   "name": "python3"
  },
  "language_info": {
   "codemirror_mode": {
    "name": "ipython",
    "version": 3
   },
   "file_extension": ".py",
   "mimetype": "text/x-python",
   "name": "python",
   "nbconvert_exporter": "python",
   "pygments_lexer": "ipython3",
   "version": "3.7.4"
  }
 },
 "nbformat": 4,
 "nbformat_minor": 2
}
